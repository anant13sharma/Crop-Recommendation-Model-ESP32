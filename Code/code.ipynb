{
 "cells": [
  {
   "cell_type": "code",
   "execution_count": 19,
   "id": "b8b32df6-c86a-4af0-b26e-3c564f6f009a",
   "metadata": {},
   "outputs": [
    {
     "name": "stdout",
     "output_type": "stream",
     "text": [
      "(69718, 14)\n",
      "<bound method NDFrame.head of        Unnamed: 0          N         Fe           Mn          S          Mg  \\\n",
      "0               0   90.00000  22.874002  1755.781061   0.478917   99.434611   \n",
      "1               1   89.84375  27.877571  1225.577971   9.492673  122.533950   \n",
      "2               2   89.68750  29.953866  1652.877830  11.792660   28.923411   \n",
      "3               3   89.53125  20.349620   429.346744  13.593830  104.724820   \n",
      "4               4   89.37500  25.667180  1117.904838   6.952989   90.663107   \n",
      "...           ...        ...        ...          ...        ...         ...   \n",
      "69713        3164  105.62500  25.363184    83.085947   4.418164  141.585259   \n",
      "69714        3165  105.21875  27.265318  1238.304455  12.416972   27.629203   \n",
      "69715        3166  104.81250  27.457146  1424.860030  13.230450  115.071609   \n",
      "69716        3167  104.40625  22.176982   260.786061  17.511177   57.416916   \n",
      "69717        3168  104.00000  26.854282   305.063932   4.932017   60.085623   \n",
      "\n",
      "                C        P        K  temperature   humidity        ph  \\\n",
      "0      250.041878  42.0000  43.0000    20.879744  82.002744  6.502985   \n",
      "1      269.432338  42.5000  42.9375    20.907579  81.950147  6.519708   \n",
      "2      243.405980  43.0000  42.8750    20.935414  81.897550  6.536430   \n",
      "3      224.334778  43.5000  42.8125    20.963249  81.844954  6.553152   \n",
      "4      240.262857  44.0000  42.7500    20.991083  81.792357  6.569874   \n",
      "...           ...      ...      ...          ...        ...       ...   \n",
      "69713  259.765703  19.7500  30.5000    23.936691  59.362840  6.777203   \n",
      "69714  266.350916  19.3125  30.3750    23.853272  59.621248  6.777860   \n",
      "69715  215.048308  18.8750  30.2500    23.769853  59.879657  6.778518   \n",
      "69716  297.442290  18.4375  30.1250    23.686435  60.138066  6.779175   \n",
      "69717  249.622761  18.0000  30.0000    23.603016  60.396475  6.779833   \n",
      "\n",
      "         rainfall   label  \n",
      "0      202.935536    rice  \n",
      "1      203.676786    rice  \n",
      "2      204.418036    rice  \n",
      "3      205.159286    rice  \n",
      "4      205.900536    rice  \n",
      "...           ...     ...  \n",
      "69713  139.216823  coffee  \n",
      "69714  139.646878  coffee  \n",
      "69715  140.076932  coffee  \n",
      "69716  140.506987  coffee  \n",
      "69717  140.937041  coffee  \n",
      "\n",
      "[69718 rows x 14 columns]>\n"
     ]
    }
   ],
   "source": [
    "# LOAD & INSPECT DATASET\n",
    "import pandas as pd\n",
    "\n",
    "df = pd.read_csv(\"crop_dataset.csv\") # load  dataset\n",
    "\n",
    "#preview\n",
    "print(df.shape)\n",
    "print(df.head)"
   ]
  },
  {
   "cell_type": "code",
   "execution_count": 21,
   "id": "600b930c-f1c9-4ca4-bef7-b0912f019b6c",
   "metadata": {},
   "outputs": [],
   "source": [
    "#Select only the 7 most Relevant Features\n",
    "#Keep only 7 import columns and relevant features\n",
    "\n",
    "columns_to_keep = ['N', 'P', 'K', 'temperature', 'humidity', 'ph', 'rainfall', 'label']\n",
    "df_reduced = df[columns_to_keep]"
   ]
  },
  {
   "cell_type": "code",
   "execution_count": 25,
   "id": "0a4e78fa-4141-401c-9f90-c5c4ff852b9c",
   "metadata": {},
   "outputs": [
    {
     "name": "stdout",
     "output_type": "stream",
     "text": [
      "N              0\n",
      "P              0\n",
      "K              0\n",
      "temperature    0\n",
      "humidity       0\n",
      "ph             0\n",
      "rainfall       0\n",
      "label          0\n",
      "dtype: int64\n"
     ]
    }
   ],
   "source": [
    "#handle missing values (if any)\n",
    "print(df_reduced.isnull().sum()) #check for nulls\n",
    "df_reduced = df_reduced.dropna() # or use fillna()"
   ]
  },
  {
   "cell_type": "code",
   "execution_count": 27,
   "id": "89ef4094-49ea-4d48-b50f-e029013aa5e3",
   "metadata": {},
   "outputs": [],
   "source": [
    "#Using only 50% of the dataset\n",
    "#randomly sample 50% of the dataset\n",
    "df_half = df_reduced.sample(frac=0.5, random_state =42).reset_index(drop=True)"
   ]
  },
  {
   "cell_type": "code",
   "execution_count": 30,
   "id": "67cc15b5-c797-4af1-9373-ed6284611326",
   "metadata": {},
   "outputs": [],
   "source": [
    "# Normalizing the input features\n",
    "from sklearn.preprocessing import MinMaxScaler\n",
    "\n",
    "scaler = MinMaxScaler()\n",
    "X_scaled = scaler.fit_transform(df_half.drop('label', axis=1))\n",
    "y = df_half['label']\n"
   ]
  },
  {
   "cell_type": "code",
   "execution_count": 32,
   "id": "06948519-af52-42d0-a078-18726bce4407",
   "metadata": {},
   "outputs": [],
   "source": [
    "#Encode Labels(Crops)\n",
    "from sklearn.preprocessing import LabelEncoder\n",
    "\n",
    "encoder = LabelEncoder()\n",
    "y_encoded = encoder.fit_transform(y)\n"
   ]
  },
  {
   "cell_type": "code",
   "execution_count": 34,
   "id": "faea6b49-9598-400e-8705-789eb215d4ee",
   "metadata": {},
   "outputs": [],
   "source": [
    "#Train Test Spit\n",
    "from sklearn.model_selection import train_test_split\n",
    "\n",
    "X_train, X_test, y_train, y_test = train_test_split(X_scaled, y_encoded, test_size=0.2, random_state=42)\n"
   ]
  },
  {
   "cell_type": "code",
   "execution_count": 38,
   "id": "d5906046-e517-4bce-ad0d-8c6832c7ca77",
   "metadata": {},
   "outputs": [
    {
     "name": "stdout",
     "output_type": "stream",
     "text": [
      "Epoch 1/20\n",
      "\u001b[1m872/872\u001b[0m \u001b[32m━━━━━━━━━━━━━━━━━━━━\u001b[0m\u001b[37m\u001b[0m \u001b[1m1s\u001b[0m 593us/step - accuracy: 0.4573 - loss: 2.1442 - val_accuracy: 0.9476 - val_loss: 0.3663\n",
      "Epoch 2/20\n",
      "\u001b[1m872/872\u001b[0m \u001b[32m━━━━━━━━━━━━━━━━━━━━\u001b[0m\u001b[37m\u001b[0m \u001b[1m0s\u001b[0m 507us/step - accuracy: 0.9591 - loss: 0.2793 - val_accuracy: 0.9816 - val_loss: 0.1322\n",
      "Epoch 3/20\n",
      "\u001b[1m872/872\u001b[0m \u001b[32m━━━━━━━━━━━━━━━━━━━━\u001b[0m\u001b[37m\u001b[0m \u001b[1m0s\u001b[0m 502us/step - accuracy: 0.9817 - loss: 0.1169 - val_accuracy: 0.9857 - val_loss: 0.0776\n",
      "Epoch 4/20\n",
      "\u001b[1m872/872\u001b[0m \u001b[32m━━━━━━━━━━━━━━━━━━━━\u001b[0m\u001b[37m\u001b[0m \u001b[1m0s\u001b[0m 501us/step - accuracy: 0.9871 - loss: 0.0708 - val_accuracy: 0.9877 - val_loss: 0.0555\n",
      "Epoch 5/20\n",
      "\u001b[1m872/872\u001b[0m \u001b[32m━━━━━━━━━━━━━━━━━━━━\u001b[0m\u001b[37m\u001b[0m \u001b[1m0s\u001b[0m 503us/step - accuracy: 0.9885 - loss: 0.0529 - val_accuracy: 0.9891 - val_loss: 0.0441\n",
      "Epoch 6/20\n",
      "\u001b[1m872/872\u001b[0m \u001b[32m━━━━━━━━━━━━━━━━━━━━\u001b[0m\u001b[37m\u001b[0m \u001b[1m0s\u001b[0m 523us/step - accuracy: 0.9902 - loss: 0.0412 - val_accuracy: 0.9898 - val_loss: 0.0356\n",
      "Epoch 7/20\n",
      "\u001b[1m872/872\u001b[0m \u001b[32m━━━━━━━━━━━━━━━━━━━━\u001b[0m\u001b[37m\u001b[0m \u001b[1m0s\u001b[0m 510us/step - accuracy: 0.9919 - loss: 0.0337 - val_accuracy: 0.9918 - val_loss: 0.0292\n",
      "Epoch 8/20\n",
      "\u001b[1m872/872\u001b[0m \u001b[32m━━━━━━━━━━━━━━━━━━━━\u001b[0m\u001b[37m\u001b[0m \u001b[1m0s\u001b[0m 538us/step - accuracy: 0.9936 - loss: 0.0281 - val_accuracy: 0.9933 - val_loss: 0.0246\n",
      "Epoch 9/20\n",
      "\u001b[1m872/872\u001b[0m \u001b[32m━━━━━━━━━━━━━━━━━━━━\u001b[0m\u001b[37m\u001b[0m \u001b[1m0s\u001b[0m 517us/step - accuracy: 0.9923 - loss: 0.0259 - val_accuracy: 0.9925 - val_loss: 0.0228\n",
      "Epoch 10/20\n",
      "\u001b[1m872/872\u001b[0m \u001b[32m━━━━━━━━━━━━━━━━━━━━\u001b[0m\u001b[37m\u001b[0m \u001b[1m1s\u001b[0m 563us/step - accuracy: 0.9939 - loss: 0.0225 - val_accuracy: 0.9938 - val_loss: 0.0218\n",
      "Epoch 11/20\n",
      "\u001b[1m872/872\u001b[0m \u001b[32m━━━━━━━━━━━━━━━━━━━━\u001b[0m\u001b[37m\u001b[0m \u001b[1m0s\u001b[0m 523us/step - accuracy: 0.9926 - loss: 0.0229 - val_accuracy: 0.9956 - val_loss: 0.0179\n",
      "Epoch 12/20\n",
      "\u001b[1m872/872\u001b[0m \u001b[32m━━━━━━━━━━━━━━━━━━━━\u001b[0m\u001b[37m\u001b[0m \u001b[1m0s\u001b[0m 505us/step - accuracy: 0.9945 - loss: 0.0184 - val_accuracy: 0.9941 - val_loss: 0.0188\n",
      "Epoch 13/20\n",
      "\u001b[1m872/872\u001b[0m \u001b[32m━━━━━━━━━━━━━━━━━━━━\u001b[0m\u001b[37m\u001b[0m \u001b[1m0s\u001b[0m 511us/step - accuracy: 0.9958 - loss: 0.0158 - val_accuracy: 0.9950 - val_loss: 0.0171\n",
      "Epoch 14/20\n",
      "\u001b[1m872/872\u001b[0m \u001b[32m━━━━━━━━━━━━━━━━━━━━\u001b[0m\u001b[37m\u001b[0m \u001b[1m0s\u001b[0m 507us/step - accuracy: 0.9954 - loss: 0.0152 - val_accuracy: 0.9945 - val_loss: 0.0158\n",
      "Epoch 15/20\n",
      "\u001b[1m872/872\u001b[0m \u001b[32m━━━━━━━━━━━━━━━━━━━━\u001b[0m\u001b[37m\u001b[0m \u001b[1m0s\u001b[0m 512us/step - accuracy: 0.9941 - loss: 0.0160 - val_accuracy: 0.9935 - val_loss: 0.0165\n",
      "Epoch 16/20\n",
      "\u001b[1m872/872\u001b[0m \u001b[32m━━━━━━━━━━━━━━━━━━━━\u001b[0m\u001b[37m\u001b[0m \u001b[1m0s\u001b[0m 513us/step - accuracy: 0.9952 - loss: 0.0149 - val_accuracy: 0.9960 - val_loss: 0.0133\n",
      "Epoch 17/20\n",
      "\u001b[1m872/872\u001b[0m \u001b[32m━━━━━━━━━━━━━━━━━━━━\u001b[0m\u001b[37m\u001b[0m \u001b[1m0s\u001b[0m 516us/step - accuracy: 0.9951 - loss: 0.0143 - val_accuracy: 0.9971 - val_loss: 0.0120\n",
      "Epoch 18/20\n",
      "\u001b[1m872/872\u001b[0m \u001b[32m━━━━━━━━━━━━━━━━━━━━\u001b[0m\u001b[37m\u001b[0m \u001b[1m0s\u001b[0m 516us/step - accuracy: 0.9947 - loss: 0.0151 - val_accuracy: 0.9970 - val_loss: 0.0115\n",
      "Epoch 19/20\n",
      "\u001b[1m872/872\u001b[0m \u001b[32m━━━━━━━━━━━━━━━━━━━━\u001b[0m\u001b[37m\u001b[0m \u001b[1m0s\u001b[0m 515us/step - accuracy: 0.9957 - loss: 0.0127 - val_accuracy: 0.9944 - val_loss: 0.0149\n",
      "Epoch 20/20\n",
      "\u001b[1m872/872\u001b[0m \u001b[32m━━━━━━━━━━━━━━━━━━━━\u001b[0m\u001b[37m\u001b[0m \u001b[1m0s\u001b[0m 518us/step - accuracy: 0.9962 - loss: 0.0123 - val_accuracy: 0.9963 - val_loss: 0.0113\n"
     ]
    },
    {
     "data": {
      "text/plain": [
       "<keras.src.callbacks.history.History at 0x1501cb770>"
      ]
     },
     "execution_count": 38,
     "metadata": {},
     "output_type": "execute_result"
    }
   ],
   "source": [
    "#Build a Neural Network for (ESP32)\n",
    "from tensorflow.keras import Input\n",
    "from tensorflow.keras.models import Sequential\n",
    "from tensorflow.keras.layers import Dense\n",
    "\n",
    "model = Sequential([\n",
    "    Input(shape=(7,)),                      # define input layer properly\n",
    "    Dense(32, activation='relu'),\n",
    "    Dense(32, activation='relu'),\n",
    "    Dense(len(encoder.classes_), activation='softmax')\n",
    "])\n",
    "\n",
    "\n",
    "model.compile(optimizer='adam', loss='sparse_categorical_crossentropy', metrics=['accuracy'])\n",
    "\n",
    "model.fit(X_train, y_train, epochs=20, batch_size=32, validation_data=(X_test, y_test))\n"
   ]
  },
  {
   "cell_type": "code",
   "execution_count": 40,
   "id": "e1c79199-7849-463a-8507-7254028644e5",
   "metadata": {},
   "outputs": [
    {
     "name": "stdout",
     "output_type": "stream",
     "text": [
      "INFO:tensorflow:Assets written to: /var/folders/s8/w058h8rn5bzf2zx2g30dczpc0000gn/T/tmptr05bocf/assets\n"
     ]
    },
    {
     "name": "stderr",
     "output_type": "stream",
     "text": [
      "INFO:tensorflow:Assets written to: /var/folders/s8/w058h8rn5bzf2zx2g30dczpc0000gn/T/tmptr05bocf/assets\n"
     ]
    },
    {
     "name": "stdout",
     "output_type": "stream",
     "text": [
      "Saved artifact at '/var/folders/s8/w058h8rn5bzf2zx2g30dczpc0000gn/T/tmptr05bocf'. The following endpoints are available:\n",
      "\n",
      "* Endpoint 'serve'\n",
      "  args_0 (POSITIONAL_ONLY): TensorSpec(shape=(None, 7), dtype=tf.float32, name='keras_tensor_11')\n",
      "Output Type:\n",
      "  TensorSpec(shape=(None, 22), dtype=tf.float32, name=None)\n",
      "Captures:\n",
      "  6374773328: TensorSpec(shape=(), dtype=tf.resource, name=None)\n",
      "  6374772944: TensorSpec(shape=(), dtype=tf.resource, name=None)\n",
      "  6374772752: TensorSpec(shape=(), dtype=tf.resource, name=None)\n",
      "  6374769872: TensorSpec(shape=(), dtype=tf.resource, name=None)\n",
      "  6374773904: TensorSpec(shape=(), dtype=tf.resource, name=None)\n",
      "  6374771600: TensorSpec(shape=(), dtype=tf.resource, name=None)\n"
     ]
    },
    {
     "name": "stderr",
     "output_type": "stream",
     "text": [
      "W0000 00:00:1743185824.040877  859421 tf_tfl_flatbuffer_helpers.cc:365] Ignored output_format.\n",
      "W0000 00:00:1743185824.041195  859421 tf_tfl_flatbuffer_helpers.cc:368] Ignored drop_control_dependency.\n",
      "2025-03-28 13:17:04.043397: I tensorflow/cc/saved_model/reader.cc:83] Reading SavedModel from: /var/folders/s8/w058h8rn5bzf2zx2g30dczpc0000gn/T/tmptr05bocf\n",
      "2025-03-28 13:17:04.043859: I tensorflow/cc/saved_model/reader.cc:52] Reading meta graph with tags { serve }\n",
      "2025-03-28 13:17:04.043864: I tensorflow/cc/saved_model/reader.cc:147] Reading SavedModel debug info (if present) from: /var/folders/s8/w058h8rn5bzf2zx2g30dczpc0000gn/T/tmptr05bocf\n",
      "2025-03-28 13:17:04.047097: I tensorflow/cc/saved_model/loader.cc:236] Restoring SavedModel bundle.\n",
      "2025-03-28 13:17:04.064046: I tensorflow/cc/saved_model/loader.cc:220] Running initialization op on SavedModel bundle at path: /var/folders/s8/w058h8rn5bzf2zx2g30dczpc0000gn/T/tmptr05bocf\n",
      "2025-03-28 13:17:04.068226: I tensorflow/cc/saved_model/loader.cc:471] SavedModel load for tags { serve }; Status: success: OK. Took 24831 microseconds.\n"
     ]
    }
   ],
   "source": [
    "#Exporting to .tflite\n",
    "# Convert to TFLite\n",
    "converter = tf.lite.TFLiteConverter.from_keras_model(model)\n",
    "tflite_model = converter.convert()\n",
    "\n",
    "# Save as file\n",
    "with open(\"crop_model_ESP.tflite\", \"wb\") as f:\n",
    "    f.write(tflite_model)\n"
   ]
  },
  {
   "cell_type": "code",
   "execution_count": 42,
   "id": "75b19301-f2e3-4aa3-ad46-4a06cf97e66b",
   "metadata": {},
   "outputs": [],
   "source": [
    "# Save the TFLite model to a file\n",
    "with open(\"crop_model_ESP.tflite\", \"wb\") as f:\n",
    "    f.write(tflite_model)\n"
   ]
  },
  {
   "cell_type": "code",
   "execution_count": null,
   "id": "0252b086-69e8-4a47-8fd1-95bcc4ddfb04",
   "metadata": {},
   "outputs": [],
   "source": []
  }
 ],
 "metadata": {
  "kernelspec": {
   "display_name": "Python [conda env:base] *",
   "language": "python",
   "name": "conda-base-py"
  },
  "language_info": {
   "codemirror_mode": {
    "name": "ipython",
    "version": 3
   },
   "file_extension": ".py",
   "mimetype": "text/x-python",
   "name": "python",
   "nbconvert_exporter": "python",
   "pygments_lexer": "ipython3",
   "version": "3.12.2"
  }
 },
 "nbformat": 4,
 "nbformat_minor": 5
}
